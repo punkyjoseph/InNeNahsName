{
  "nbformat": 4,
  "nbformat_minor": 0,
  "metadata": {
    "colab": {
      "name": "Hello ",
      "provenance": [],
      "collapsed_sections": []
    },
    "kernelspec": {
      "name": "python3",
      "display_name": "Python 3"
    }
  },
  "cells": [
    {
      "cell_type": "code",
      "metadata": {
        "id": "QkGWjf1IRy9C",
        "colab_type": "code",
        "colab": {
          "base_uri": "https://localhost:8080/",
          "height": 34
        },
        "outputId": "a585df27-5f15-4192-bf01-eeaed3f84c89"
      },
      "source": [
        "def hello(person):\n",
        "    print(f'Hello, {person}')\n",
        "hello('Moon')"
      ],
      "execution_count": 25,
      "outputs": [
        {
          "output_type": "stream",
          "text": [
            "Hello, Moon\n"
          ],
          "name": "stdout"
        }
      ]
    },
    {
      "cell_type": "code",
      "metadata": {
        "id": "Inx9N1VInO_H",
        "colab_type": "code",
        "colab": {}
      },
      "source": [
        "def quotable(name,quote):\n",
        "    print(f'{name} said: \"{quote}\"')\n",
        "quotable('amy','never stop learning')"
      ],
      "execution_count": 0,
      "outputs": []
    }
  ]
}